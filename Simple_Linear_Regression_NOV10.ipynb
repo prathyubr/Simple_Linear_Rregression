{
 "cells": [
  {
   "cell_type": "markdown",
   "id": "3adedf6e",
   "metadata": {},
   "source": [
    "## 1. Import necessasary libraries"
   ]
  },
  {
   "cell_type": "code",
   "execution_count": 4,
   "id": "b5b538e3",
   "metadata": {},
   "outputs": [],
   "source": [
    "import pandas as pd\n",
    "\n",
    "from matplotlib import pyplot as plt\n",
    "import seaborn as sns\n",
    "\n",
    "import warnings\n",
    "warnings.filterwarnings('ignore')"
   ]
  },
  {
   "cell_type": "markdown",
   "id": "b86059d6",
   "metadata": {},
   "source": [
    "## 2. Import Data"
   ]
  },
  {
   "cell_type": "code",
   "execution_count": 5,
   "id": "46ad8721",
   "metadata": {},
   "outputs": [
    {
     "data": {
      "text/html": [
       "<div>\n",
       "<style scoped>\n",
       "    .dataframe tbody tr th:only-of-type {\n",
       "        vertical-align: middle;\n",
       "    }\n",
       "\n",
       "    .dataframe tbody tr th {\n",
       "        vertical-align: top;\n",
       "    }\n",
       "\n",
       "    .dataframe thead th {\n",
       "        text-align: right;\n",
       "    }\n",
       "</style>\n",
       "<table border=\"1\" class=\"dataframe\">\n",
       "  <thead>\n",
       "    <tr style=\"text-align: right;\">\n",
       "      <th></th>\n",
       "      <th>Newspaper</th>\n",
       "      <th>daily</th>\n",
       "      <th>sunday</th>\n",
       "    </tr>\n",
       "  </thead>\n",
       "  <tbody>\n",
       "    <tr>\n",
       "      <th>0</th>\n",
       "      <td>Baltimore Sun</td>\n",
       "      <td>391.952</td>\n",
       "      <td>488.506</td>\n",
       "    </tr>\n",
       "    <tr>\n",
       "      <th>1</th>\n",
       "      <td>Boston Globe</td>\n",
       "      <td>516.981</td>\n",
       "      <td>798.298</td>\n",
       "    </tr>\n",
       "    <tr>\n",
       "      <th>2</th>\n",
       "      <td>Boston Herald</td>\n",
       "      <td>355.628</td>\n",
       "      <td>235.084</td>\n",
       "    </tr>\n",
       "    <tr>\n",
       "      <th>3</th>\n",
       "      <td>Charlotte Observer</td>\n",
       "      <td>238.555</td>\n",
       "      <td>299.451</td>\n",
       "    </tr>\n",
       "    <tr>\n",
       "      <th>4</th>\n",
       "      <td>Chicago Sun Times</td>\n",
       "      <td>537.780</td>\n",
       "      <td>559.093</td>\n",
       "    </tr>\n",
       "    <tr>\n",
       "      <th>5</th>\n",
       "      <td>Chicago Tribune</td>\n",
       "      <td>733.775</td>\n",
       "      <td>1133.249</td>\n",
       "    </tr>\n",
       "    <tr>\n",
       "      <th>6</th>\n",
       "      <td>Cincinnati Enquirer</td>\n",
       "      <td>198.832</td>\n",
       "      <td>348.744</td>\n",
       "    </tr>\n",
       "    <tr>\n",
       "      <th>7</th>\n",
       "      <td>Denver Post</td>\n",
       "      <td>252.624</td>\n",
       "      <td>417.779</td>\n",
       "    </tr>\n",
       "    <tr>\n",
       "      <th>8</th>\n",
       "      <td>Des Moines Register</td>\n",
       "      <td>206.204</td>\n",
       "      <td>344.522</td>\n",
       "    </tr>\n",
       "    <tr>\n",
       "      <th>9</th>\n",
       "      <td>Hartford Courant</td>\n",
       "      <td>231.177</td>\n",
       "      <td>323.084</td>\n",
       "    </tr>\n",
       "    <tr>\n",
       "      <th>10</th>\n",
       "      <td>Houston Chronicle</td>\n",
       "      <td>449.755</td>\n",
       "      <td>620.752</td>\n",
       "    </tr>\n",
       "    <tr>\n",
       "      <th>11</th>\n",
       "      <td>Kansas City Star</td>\n",
       "      <td>288.571</td>\n",
       "      <td>423.305</td>\n",
       "    </tr>\n",
       "    <tr>\n",
       "      <th>12</th>\n",
       "      <td>Los Angeles Daily  News</td>\n",
       "      <td>185.736</td>\n",
       "      <td>202.614</td>\n",
       "    </tr>\n",
       "    <tr>\n",
       "      <th>13</th>\n",
       "      <td>Los Angeles Times</td>\n",
       "      <td>1164.388</td>\n",
       "      <td>1531.527</td>\n",
       "    </tr>\n",
       "    <tr>\n",
       "      <th>14</th>\n",
       "      <td>Miami Herald</td>\n",
       "      <td>444.581</td>\n",
       "      <td>553.479</td>\n",
       "    </tr>\n",
       "    <tr>\n",
       "      <th>15</th>\n",
       "      <td>Minneapolis Star Tribune</td>\n",
       "      <td>412.871</td>\n",
       "      <td>685.975</td>\n",
       "    </tr>\n",
       "    <tr>\n",
       "      <th>16</th>\n",
       "      <td>New Orleans Times-Picayune</td>\n",
       "      <td>272.280</td>\n",
       "      <td>324.241</td>\n",
       "    </tr>\n",
       "    <tr>\n",
       "      <th>17</th>\n",
       "      <td>New York Daily News</td>\n",
       "      <td>781.796</td>\n",
       "      <td>983.240</td>\n",
       "    </tr>\n",
       "    <tr>\n",
       "      <th>18</th>\n",
       "      <td>New York Times</td>\n",
       "      <td>1209.225</td>\n",
       "      <td>1762.015</td>\n",
       "    </tr>\n",
       "    <tr>\n",
       "      <th>19</th>\n",
       "      <td>Newsday</td>\n",
       "      <td>825.512</td>\n",
       "      <td>960.308</td>\n",
       "    </tr>\n",
       "    <tr>\n",
       "      <th>20</th>\n",
       "      <td>Omaha World Herald</td>\n",
       "      <td>223.748</td>\n",
       "      <td>284.611</td>\n",
       "    </tr>\n",
       "    <tr>\n",
       "      <th>21</th>\n",
       "      <td>Orange County Register</td>\n",
       "      <td>354.843</td>\n",
       "      <td>407.760</td>\n",
       "    </tr>\n",
       "    <tr>\n",
       "      <th>22</th>\n",
       "      <td>Philadelphia Inquirer</td>\n",
       "      <td>515.523</td>\n",
       "      <td>982.663</td>\n",
       "    </tr>\n",
       "    <tr>\n",
       "      <th>23</th>\n",
       "      <td>Pittsburgh Press</td>\n",
       "      <td>220.465</td>\n",
       "      <td>557.000</td>\n",
       "    </tr>\n",
       "    <tr>\n",
       "      <th>24</th>\n",
       "      <td>Portland Oregonian</td>\n",
       "      <td>337.672</td>\n",
       "      <td>440.923</td>\n",
       "    </tr>\n",
       "    <tr>\n",
       "      <th>25</th>\n",
       "      <td>Providence Journal-Bulletin</td>\n",
       "      <td>197.120</td>\n",
       "      <td>268.060</td>\n",
       "    </tr>\n",
       "    <tr>\n",
       "      <th>26</th>\n",
       "      <td>Rochester Democrat &amp; Chronicle</td>\n",
       "      <td>133.239</td>\n",
       "      <td>262.048</td>\n",
       "    </tr>\n",
       "    <tr>\n",
       "      <th>27</th>\n",
       "      <td>Rocky Mountain News</td>\n",
       "      <td>374.009</td>\n",
       "      <td>432.502</td>\n",
       "    </tr>\n",
       "    <tr>\n",
       "      <th>28</th>\n",
       "      <td>Sacramento Bee</td>\n",
       "      <td>273.844</td>\n",
       "      <td>338.355</td>\n",
       "    </tr>\n",
       "    <tr>\n",
       "      <th>29</th>\n",
       "      <td>San Francisco Chronicle</td>\n",
       "      <td>570.364</td>\n",
       "      <td>704.322</td>\n",
       "    </tr>\n",
       "    <tr>\n",
       "      <th>30</th>\n",
       "      <td>St. Louis Post-Dispatch</td>\n",
       "      <td>391.286</td>\n",
       "      <td>585.681</td>\n",
       "    </tr>\n",
       "    <tr>\n",
       "      <th>31</th>\n",
       "      <td>St. Paul Pioneer Press</td>\n",
       "      <td>201.860</td>\n",
       "      <td>267.781</td>\n",
       "    </tr>\n",
       "    <tr>\n",
       "      <th>32</th>\n",
       "      <td>Tampa Tribune</td>\n",
       "      <td>321.626</td>\n",
       "      <td>408.343</td>\n",
       "    </tr>\n",
       "    <tr>\n",
       "      <th>33</th>\n",
       "      <td>Washington Post</td>\n",
       "      <td>838.902</td>\n",
       "      <td>1165.567</td>\n",
       "    </tr>\n",
       "  </tbody>\n",
       "</table>\n",
       "</div>"
      ],
      "text/plain": [
       "                         Newspaper     daily    sunday\n",
       "0                    Baltimore Sun   391.952   488.506\n",
       "1                     Boston Globe   516.981   798.298\n",
       "2                    Boston Herald   355.628   235.084\n",
       "3               Charlotte Observer   238.555   299.451\n",
       "4                Chicago Sun Times   537.780   559.093\n",
       "5                  Chicago Tribune   733.775  1133.249\n",
       "6              Cincinnati Enquirer   198.832   348.744\n",
       "7                      Denver Post   252.624   417.779\n",
       "8              Des Moines Register   206.204   344.522\n",
       "9                 Hartford Courant   231.177   323.084\n",
       "10               Houston Chronicle   449.755   620.752\n",
       "11                Kansas City Star   288.571   423.305\n",
       "12         Los Angeles Daily  News   185.736   202.614\n",
       "13               Los Angeles Times  1164.388  1531.527\n",
       "14                    Miami Herald   444.581   553.479\n",
       "15        Minneapolis Star Tribune   412.871   685.975\n",
       "16      New Orleans Times-Picayune   272.280   324.241\n",
       "17             New York Daily News   781.796   983.240\n",
       "18                  New York Times  1209.225  1762.015\n",
       "19                         Newsday   825.512   960.308\n",
       "20              Omaha World Herald   223.748   284.611\n",
       "21          Orange County Register   354.843   407.760\n",
       "22           Philadelphia Inquirer   515.523   982.663\n",
       "23                Pittsburgh Press   220.465   557.000\n",
       "24              Portland Oregonian   337.672   440.923\n",
       "25     Providence Journal-Bulletin   197.120   268.060\n",
       "26  Rochester Democrat & Chronicle   133.239   262.048\n",
       "27             Rocky Mountain News   374.009   432.502\n",
       "28                  Sacramento Bee   273.844   338.355\n",
       "29         San Francisco Chronicle   570.364   704.322\n",
       "30         St. Louis Post-Dispatch   391.286   585.681\n",
       "31          St. Paul Pioneer Press   201.860   267.781\n",
       "32                   Tampa Tribune   321.626   408.343\n",
       "33                 Washington Post   838.902  1165.567"
      ]
     },
     "execution_count": 5,
     "metadata": {},
     "output_type": "execute_result"
    }
   ],
   "source": [
    "newspaper_data = pd.read_csv('NewspaperData.csv')\n",
    "newspaper_data"
   ]
  },
  {
   "cell_type": "markdown",
   "id": "a1ef31a1",
   "metadata": {},
   "source": [
    "## 3. Data Understanding\n",
    "\n",
    "### 3.1 Initial Analysis"
   ]
  },
  {
   "cell_type": "code",
   "execution_count": 4,
   "id": "d09e8271",
   "metadata": {},
   "outputs": [
    {
     "data": {
      "text/plain": [
       "(34, 3)"
      ]
     },
     "execution_count": 4,
     "metadata": {},
     "output_type": "execute_result"
    }
   ],
   "source": [
    "newspaper_data.shape"
   ]
  },
  {
   "cell_type": "code",
   "execution_count": 5,
   "id": "9db142a0",
   "metadata": {},
   "outputs": [
    {
     "data": {
      "text/plain": [
       "Newspaper    0\n",
       "daily        0\n",
       "sunday       0\n",
       "dtype: int64"
      ]
     },
     "execution_count": 5,
     "metadata": {},
     "output_type": "execute_result"
    }
   ],
   "source": [
    "newspaper_data.isna().sum()"
   ]
  },
  {
   "cell_type": "code",
   "execution_count": 6,
   "id": "6710e1f3",
   "metadata": {},
   "outputs": [
    {
     "data": {
      "text/plain": [
       "Newspaper     object\n",
       "daily        float64\n",
       "sunday       float64\n",
       "dtype: object"
      ]
     },
     "execution_count": 6,
     "metadata": {},
     "output_type": "execute_result"
    }
   ],
   "source": [
    "newspaper_data.dtypes"
   ]
  },
  {
   "cell_type": "markdown",
   "id": "743425ed",
   "metadata": {},
   "source": [
    "### 3.2 Assumptions Check"
   ]
  },
  {
   "cell_type": "markdown",
   "id": "44fa8328",
   "metadata": {},
   "source": [
    "#### 1. Linearity Test"
   ]
  },
  {
   "cell_type": "code",
   "execution_count": 10,
   "id": "f88c94af",
   "metadata": {},
   "outputs": [
    {
     "data": {
      "image/png": "[encoded data removed]",
      "text/plain": [
       "<Figure size 432x288 with 1 Axes>"
      ]
     },
     "metadata": {
      "needs_background": "light"
     },
     "output_type": "display_data"
    }
   ],
   "source": [
    "sns.scatterplot(x = 'daily', y = 'sunday', data = newspaper_data)\n",
    "plt.title('Daily Vs Sunday Circulations')\n",
    "plt.show()"
   ]
  },
  {
   "cell_type": "code",
   "execution_count": 11,
   "id": "d6d2ab9c",
   "metadata": {},
   "outputs": [
    {
     "data": {
      "image/png": "[encoded data removed]",
      "text/plain": [
       "<Figure size 360x360 with 1 Axes>"
      ]
     },
     "metadata": {
      "needs_background": "light"
     },
     "output_type": "display_data"
    }
   ],
   "source": [
    "sns.lmplot(x = 'daily', y = 'sunday', data = newspaper_data)\n",
    "plt.title('Daily Vs Sunday Circulations')\n",
    "plt.show()"
   ]
  },
  {
   "cell_type": "markdown",
   "id": "ee3f14a1",
   "metadata": {},
   "source": [
    "### 2. Normality Test"
   ]
  },
  {
   "cell_type": "code",
   "execution_count": 15,
   "id": "7452b8ac",
   "metadata": {},
   "outputs": [
    {
     "data": {
      "image/png": "[encoded data removed]",
      "text/plain": [
       "<Figure size 432x288 with 1 Axes>"
      ]
     },
     "metadata": {
      "needs_background": "light"
     },
     "output_type": "display_data"
    }
   ],
   "source": [
    "sns.distplot(a = newspaper_data['daily'],hist=False)\n",
    "plt.show()"
   ]
  },
  {
   "cell_type": "code",
   "execution_count": 16,
   "id": "6f51ac9e",
   "metadata": {},
   "outputs": [
    {
     "data": {
      "text/plain": [
       "1.5321591323040094"
      ]
     },
     "execution_count": 16,
     "metadata": {},
     "output_type": "execute_result"
    }
   ],
   "source": [
    "newspaper_data['daily'].skew()"
   ]
  },
  {
   "cell_type": "markdown",
   "id": "856b4a5b",
   "metadata": {},
   "source": [
    "### 3. MultiCollinearity Check\n",
    "\n",
    "#### It can be perfomed using, \n",
    "1. Correlation Matrix\n",
    "2. Variance Inflation Factor(VIF)"
   ]
  },
  {
   "cell_type": "markdown",
   "id": "bf5b70d0",
   "metadata": {},
   "source": [
    "### 4. No Autoregression\n",
    "\n",
    "There is no time based input in my input features."
   ]
  },
  {
   "cell_type": "markdown",
   "id": "7a770ea8",
   "metadata": {},
   "source": [
    "### 5. Homoscadascity Check | 6. Zero Residual Mean Check\n",
    "\n",
    "#### Note: These 2 tests can be performed post model training"
   ]
  },
  {
   "cell_type": "markdown",
   "id": "dce5f842",
   "metadata": {},
   "source": [
    "## 4. Data Preparation"
   ]
  },
  {
   "cell_type": "code",
   "execution_count": 6,
   "id": "51f78af4",
   "metadata": {},
   "outputs": [],
   "source": [
    "del newspaper_data['Newspaper']"
   ]
  },
  {
   "cell_type": "code",
   "execution_count": 18,
   "id": "3ef227c9",
   "metadata": {},
   "outputs": [
    {
     "data": {
      "text/plain": [
       "daily     float64\n",
       "sunday    float64\n",
       "dtype: object"
      ]
     },
     "execution_count": 18,
     "metadata": {},
     "output_type": "execute_result"
    }
   ],
   "source": [
    "newspaper_data.dtypes"
   ]
  },
  {
   "cell_type": "code",
   "execution_count": 19,
   "id": "573918f8",
   "metadata": {},
   "outputs": [
    {
     "data": {
      "text/plain": [
       "daily     0\n",
       "sunday    0\n",
       "dtype: int64"
      ]
     },
     "execution_count": 19,
     "metadata": {},
     "output_type": "execute_result"
    }
   ],
   "source": [
    "newspaper_data.isna().sum()"
   ]
  },
  {
   "cell_type": "markdown",
   "id": "0d5c88af",
   "metadata": {},
   "source": [
    "### ======================================================================================="
   ]
  },
  {
   "cell_type": "markdown",
   "id": "bd65a215",
   "metadata": {},
   "source": [
    "### NOTE:\n",
    "\n",
    "#### Linear Regression can be build using 2 libraries:\n",
    "\n",
    "##### 1. Using statsmodels library\n",
    "##### 2. Using sklearn library"
   ]
  },
  {
   "cell_type": "markdown",
   "id": "12aad77a",
   "metadata": {},
   "source": [
    "### ======================================================================================="
   ]
  },
  {
   "cell_type": "markdown",
   "id": "368a7f50",
   "metadata": {},
   "source": [
    "### 1. Using statsmodels\n",
    "\n",
    "If statsmodels, Model building and Model Training will happen at the same time using **OLS Techique(Ordinary Least Square).** "
   ]
  },
  {
   "cell_type": "markdown",
   "id": "b6594d36",
   "metadata": {},
   "source": [
    "### 5. Model Building | 6. Model Training"
   ]
  },
  {
   "cell_type": "code",
   "execution_count": 7,
   "id": "f0756ac9",
   "metadata": {},
   "outputs": [],
   "source": [
    "import statsmodels.formula.api as smf"
   ]
  },
  {
   "cell_type": "code",
   "execution_count": 8,
   "id": "625290c4",
   "metadata": {},
   "outputs": [],
   "source": [
    "linear_model = smf.ols(formula = 'sunday~daily', data = newspaper_data).fit() #Model Building and Model Training"
   ]
  },
  {
   "cell_type": "code",
   "execution_count": 24,
   "id": "6bfd9e76",
   "metadata": {},
   "outputs": [
    {
     "data": {
      "text/plain": [
       "Intercept    13.835630\n",
       "daily         1.339715\n",
       "dtype: float64"
      ]
     },
     "execution_count": 24,
     "metadata": {},
     "output_type": "execute_result"
    }
   ],
   "source": [
    "linear_model.params"
   ]
  },
  {
   "cell_type": "markdown",
   "id": "2549c045",
   "metadata": {},
   "source": [
    "### 7. Model Testing"
   ]
  },
  {
   "cell_type": "markdown",
   "id": "59a8ba16",
   "metadata": {},
   "source": [
    "#### Manual Calculation"
   ]
  },
  {
   "cell_type": "code",
   "execution_count": 25,
   "id": "51f03932",
   "metadata": {},
   "outputs": [
    {
     "data": {
      "text/plain": [
       "281.77862999999996"
      ]
     },
     "execution_count": 25,
     "metadata": {},
     "output_type": "execute_result"
    }
   ],
   "source": [
    "#y = mx + c\n",
    "#If x = 200, y = ?\n",
    "(1.339715*200) + 13.835630"
   ]
  },
  {
   "cell_type": "code",
   "execution_count": 26,
   "id": "32fc20ef",
   "metadata": {},
   "outputs": [
    {
     "data": {
      "text/plain": [
       "415.75012999999996"
      ]
     },
     "execution_count": 26,
     "metadata": {},
     "output_type": "execute_result"
    }
   ],
   "source": [
    "#If 300, y =?\n",
    "(1.339715*300) + 13.835630"
   ]
  },
  {
   "cell_type": "markdown",
   "id": "feac1542",
   "metadata": {},
   "source": [
    "#### Machine Prediction"
   ]
  },
  {
   "cell_type": "code",
   "execution_count": 9,
   "id": "20658f4e",
   "metadata": {},
   "outputs": [
    {
     "data": {
      "text/html": [
       "<div>\n",
       "<style scoped>\n",
       "    .dataframe tbody tr th:only-of-type {\n",
       "        vertical-align: middle;\n",
       "    }\n",
       "\n",
       "    .dataframe tbody tr th {\n",
       "        vertical-align: top;\n",
       "    }\n",
       "\n",
       "    .dataframe thead th {\n",
       "        text-align: right;\n",
       "    }\n",
       "</style>\n",
       "<table border=\"1\" class=\"dataframe\">\n",
       "  <thead>\n",
       "    <tr style=\"text-align: right;\">\n",
       "      <th></th>\n",
       "      <th>daily</th>\n",
       "    </tr>\n",
       "  </thead>\n",
       "  <tbody>\n",
       "    <tr>\n",
       "      <th>0</th>\n",
       "      <td>200</td>\n",
       "    </tr>\n",
       "    <tr>\n",
       "      <th>1</th>\n",
       "      <td>300</td>\n",
       "    </tr>\n",
       "    <tr>\n",
       "      <th>2</th>\n",
       "      <td>400</td>\n",
       "    </tr>\n",
       "  </tbody>\n",
       "</table>\n",
       "</div>"
      ],
      "text/plain": [
       "   daily\n",
       "0    200\n",
       "1    300\n",
       "2    400"
      ]
     },
     "execution_count": 9,
     "metadata": {},
     "output_type": "execute_result"
    }
   ],
   "source": [
    "test_data = pd.read_csv('linear_demo.csv')\n",
    "test_data"
   ]
  },
  {
   "cell_type": "code",
   "execution_count": 10,
   "id": "56bc1b31",
   "metadata": {},
   "outputs": [
    {
     "data": {
      "text/plain": [
       "0    281.778581\n",
       "1    415.750057\n",
       "2    549.721533\n",
       "dtype: float64"
      ]
     },
     "execution_count": 10,
     "metadata": {},
     "output_type": "execute_result"
    }
   ],
   "source": [
    "linear_model.predict(test_data)"
   ]
  },
  {
   "cell_type": "markdown",
   "id": "cd5fc0aa",
   "metadata": {},
   "source": [
    "### 8. Model Evaluation"
   ]
  },
  {
   "cell_type": "markdown",
   "id": "073b1f59",
   "metadata": {},
   "source": [
    "### <<<<<< PARK >>>>>>>>>>>"
   ]
  },
  {
   "cell_type": "markdown",
   "id": "42ed67c3",
   "metadata": {},
   "source": [
    "### 9. Model Deployement"
   ]
  },
  {
   "cell_type": "code",
   "execution_count": 11,
   "id": "2fd3630f",
   "metadata": {},
   "outputs": [],
   "source": [
    "from pickle import dump"
   ]
  },
  {
   "cell_type": "code",
   "execution_count": 12,
   "id": "219c8832",
   "metadata": {},
   "outputs": [],
   "source": [
    "dump(linear_model,open('linear_model.pkl','wb')) #Serialozation, pickling, convert to binary file"
   ]
  },
  {
   "cell_type": "code",
   "execution_count": 13,
   "id": "affc61e7",
   "metadata": {},
   "outputs": [],
   "source": [
    "from pickle import load"
   ]
  },
  {
   "cell_type": "code",
   "execution_count": 16,
   "id": "765e60e3",
   "metadata": {},
   "outputs": [],
   "source": [
    "loaded_lin_file = load(open('linear_model.pkl','rb'))"
   ]
  },
  {
   "cell_type": "code",
   "execution_count": 17,
   "id": "87b233f7",
   "metadata": {},
   "outputs": [
    {
     "data": {
      "text/plain": [
       "0    281.778581\n",
       "1    415.750057\n",
       "2    549.721533\n",
       "dtype: float64"
      ]
     },
     "execution_count": 17,
     "metadata": {},
     "output_type": "execute_result"
    }
   ],
   "source": [
    "loaded_lin_file.predict(test_data)"
   ]
  },
  {
   "cell_type": "markdown",
   "id": "b4f41354",
   "metadata": {},
   "source": [
    "### END OF THE LC."
   ]
  }
 ],
 "metadata": {
  "kernelspec": {
   "display_name": "Python 3",
   "language": "python",
   "name": "python3"
  },
  "language_info": {
   "codemirror_mode": {
    "name": "ipython",
    "version": 3
   },
   "file_extension": ".py",
   "mimetype": "text/x-python",
   "name": "python",
   "nbconvert_exporter": "python",
   "pygments_lexer": "ipython3",
   "version": "3.8.8"
  }
 },
 "nbformat": 4,
 "nbformat_minor": 5
}
